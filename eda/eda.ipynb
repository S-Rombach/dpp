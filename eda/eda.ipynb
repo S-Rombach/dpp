{
 "cells": [
  {
   "cell_type": "markdown",
   "id": "b3c0e6c3",
   "metadata": {},
   "source": [
    "# EDA of diabetes_012_health_indicators_BRFSS2015"
   ]
  },
  {
   "cell_type": "code",
   "execution_count": null,
   "id": "aace00f3",
   "metadata": {},
   "outputs": [],
   "source": [
    "import numpy as np\n",
    "import pandas as pd\n",
    "import seaborn as sns\n",
    "import matplotlib.pyplot as plt"
   ]
  },
  {
   "cell_type": "code",
   "execution_count": null,
   "id": "dee7bbf4",
   "metadata": {},
   "outputs": [],
   "source": [
    "df_raw = pd.read_csv(\"../data/raw/diabetes_012_health_indicators_BRFSS2015.csv\")"
   ]
  },
  {
   "cell_type": "markdown",
   "id": "7107e537",
   "metadata": {},
   "source": [
    "## First glance at raw data"
   ]
  },
  {
   "cell_type": "code",
   "execution_count": null,
   "id": "cf8643a1",
   "metadata": {},
   "outputs": [],
   "source": [
    "display(df_raw.shape)"
   ]
  },
  {
   "cell_type": "code",
   "execution_count": null,
   "id": "ec3c5721",
   "metadata": {},
   "outputs": [],
   "source": [
    "display(df_raw.info())"
   ]
  },
  {
   "cell_type": "markdown",
   "id": "6809bd38",
   "metadata": {},
   "source": [
    "#### Observation\n",
    "* There are no missing values.\n",
    "* All columns contain numbers, although some should be interpreted as categories."
   ]
  },
  {
   "cell_type": "code",
   "execution_count": null,
   "id": "158777ca",
   "metadata": {},
   "outputs": [],
   "source": [
    "step = 8\n",
    "\n",
    "for i in range(0, len(df_raw.columns), step):\n",
    "    display(df_raw[df_raw.columns[i : i + step]].head())"
   ]
  },
  {
   "cell_type": "code",
   "execution_count": null,
   "id": "566342bc",
   "metadata": {},
   "outputs": [],
   "source": [
    "display(df_raw[df_raw.select_dtypes(include=\"number\").columns].describe())"
   ]
  },
  {
   "cell_type": "markdown",
   "id": "b9c4bf78",
   "metadata": {},
   "source": [
    "#### Observation\n",
    "* `BMI` has a high maximum. Possibly an outlier.\n",
    "* `MentHlth` and `PhysHlth` are negatively skewed. Both have more than 50% zeroes."
   ]
  },
  {
   "cell_type": "markdown",
   "id": "2b209775",
   "metadata": {},
   "source": [
    "## Converted to intended datatype"
   ]
  },
  {
   "cell_type": "markdown",
   "id": "8c7b1761",
   "metadata": {},
   "source": [
    "### Data Dictionary – Diabetes Health Indicators\n",
    "\n",
    "| Column                | Datatype   | Description                                                                 |\n",
    "|-----------------------|------------|-----------------------------------------------------------------------------|\n",
    "| `Diabetes_012`        | nominal    | 0 = no diabetes, 1 = prediabetes, 2 = diabetes                              |\n",
    "| `HighBP`              | nominal    | 0 = no high blood pressure, 1 = high blood pressure                         |\n",
    "| `HighChol`            | nominal    | 0 = no high cholesterol, 1 = high cholesterol                               |\n",
    "| `CholCheck`           | nominal    | 0 = no cholesterol check in 5 years, 1 = yes                                |\n",
    "| `BMI`                 | float      | Body Mass Index                                                             |\n",
    "| `Smoker`              | nominal    | Smoked ≥100 cigarettes in lifetime: 0 = no, 1 = yes                         |\n",
    "| `Stroke`              | nominal    | Ever told had a stroke: 0 = no, 1 = yes                                     |\n",
    "| `HeartDiseaseorAttack`| nominal    | CHD or MI history: 0 = no, 1 = yes                                          |\n",
    "| `PhysActivity`        | nominal    | Physical activity (last 30 days, non-job): 0 = no, 1 = yes                  |\n",
    "| `Fruits`              | nominal    | Consumes fruit ≥1×/day: 0 = no, 1 = yes                                     |\n",
    "| `Veggies`             | nominal    | Consumes vegetables ≥1×/day: 0 = no, 1 = yes                                |\n",
    "| `HvyAlcoholConsump`   | nominal    | Heavy drinker: 0 = no, 1 = yes                                              |\n",
    "| `AnyHealthcare`       | nominal    | Has health coverage: 0 = no, 1 = yes                                        |\n",
    "| `NoDocbcCost`         | nominal    | Missed doctor due to cost (last 12 months): 0 = no, 1 = yes                 |\n",
    "| `GenHlth`             | ordinal    | General health: 1 = excellent, ..., 5 = poor                                |\n",
    "| `MentHlth`            | int        | Days of poor mental health (last 30 days), 0–30                             |\n",
    "| `PhysHlth`            | int        | Days of poor physical health (last 30 days), 0–30                           |\n",
    "| `DiffWalk`            | nominal    | Serious difficulty walking/stairs: 0 = no, 1 = yes                          |\n",
    "| `Sex`                 | nominal    | 0 = female, 1 = male                                                        |\n",
    "| `Age`                 | ordinal    | Age category: 1 = 18–24, ..., 13 = 80+                                      |\n",
    "| `Education`           | ordinal    | Education level: 1 = none to kindergarten, ..., 6 = college grad           |\n",
    "| `Income`              | ordinal    | Income level: 1 = < $10k, ..., 8 = ≥ $75k                                   |\n",
    "\n"
   ]
  },
  {
   "cell_type": "markdown",
   "id": "b44f2481",
   "metadata": {},
   "source": [
    "### Conversion"
   ]
  },
  {
   "cell_type": "code",
   "execution_count": null,
   "id": "18c1ed41",
   "metadata": {},
   "outputs": [],
   "source": [
    "cat_cols = [\n",
    "    \"Diabetes_012\",\n",
    "    \"HighBP\",\n",
    "    \"HighChol\",\n",
    "    \"CholCheck\",\n",
    "    \"Smoker\",\n",
    "    \"Stroke\",\n",
    "    \"HeartDiseaseorAttack\",\n",
    "    \"PhysActivity\",\n",
    "    \"Fruits\",\n",
    "    \"Veggies\",\n",
    "    \"HvyAlcoholConsump\",\n",
    "    \"AnyHealthcare\",\n",
    "    \"NoDocbcCost\",\n",
    "    \"GenHlth\",\n",
    "    \"DiffWalk\",\n",
    "    \"Sex\",\n",
    "    \"Age\",\n",
    "    \"Education\",\n",
    "    \"Income\",\n",
    "]\n",
    "\n",
    "df_raw[cat_cols] = df_raw[cat_cols].astype(\"int\").astype(\"category\")"
   ]
  },
  {
   "cell_type": "markdown",
   "id": "12789167",
   "metadata": {},
   "source": [
    "### Info, Describe, Overview"
   ]
  },
  {
   "cell_type": "code",
   "execution_count": null,
   "id": "ef4cfad1",
   "metadata": {},
   "outputs": [],
   "source": [
    "df_raw.info()"
   ]
  },
  {
   "cell_type": "code",
   "execution_count": null,
   "id": "cad79bff",
   "metadata": {},
   "outputs": [],
   "source": [
    "display(df_raw.loc[:, df_raw.select_dtypes(include=\"number\").columns].describe())"
   ]
  },
  {
   "cell_type": "code",
   "execution_count": null,
   "id": "00c29f4c",
   "metadata": {},
   "outputs": [],
   "source": [
    "def overview(df):\n",
    "    \"\"\"\n",
    "    Creates and prints an overview of the DataFrame including data types, counts, missing values,\n",
    "    unique values, and some basic statistics.\n",
    "    \"\"\"\n",
    "    from pandas.api.types import is_numeric_dtype, is_categorical_dtype\n",
    "\n",
    "    def normalized_entropy_cat(series: pd.Series) -> float:\n",
    "        \"\"\"\n",
    "        Compute the normalized Shannon entropy of a categorical distribution.\n",
    "\n",
    "        Returns 0 if only one class is present, 1 for perfectly uniform distribution.\n",
    "        \"\"\"\n",
    "        counts = series.value_counts(normalize=True)\n",
    "        entropy = -np.sum(counts * np.log2(counts))\n",
    "        max_entropy = np.log2(len(counts)) if len(counts) > 1 else 1\n",
    "        return entropy / max_entropy\n",
    "\n",
    "    display(\n",
    "        pd.DataFrame(\n",
    "            {\n",
    "                \"dtype\": df.dtypes,\n",
    "                \"total\": df.count(),\n",
    "                \"missing\": df.isna().sum(),\n",
    "                \"missing%\": df.isna().mean() * 100,\n",
    "                \"n_uniques\": df.nunique(),\n",
    "                \"uniques%\": df.nunique() / df.shape[0] * 100,\n",
    "                \"uniques\": [sorted(df[col].unique()) for col in df.columns],\n",
    "                \"non-numeric\": [\n",
    "                    list(\n",
    "                        df[col][pd.to_numeric(df[col], errors=\"coerce\").isna()].unique()\n",
    "                    )\n",
    "                    for col in df.columns\n",
    "                ],\n",
    "                \"dev from mean\": [\n",
    "                    (\n",
    "                        (\n",
    "                            round(\n",
    "                                ((df[col].mean() - df[col].min()) / df[col].std()), 1\n",
    "                            ),\n",
    "                            round(\n",
    "                                ((df[col].max() - df[col].mean()) / df[col].std()), 1\n",
    "                            ),\n",
    "                        )\n",
    "                        if is_numeric_dtype(df[col])\n",
    "                        else pd.NA\n",
    "                    )\n",
    "                    for col in df.columns\n",
    "                ],\n",
    "                \"most/least freq\": [\n",
    "                    (\n",
    "                        (\n",
    "                            {\n",
    "                                df[col].value_counts().index[i]: list(\n",
    "                                    df[col].value_counts()\n",
    "                                )[i] for i in (0, -1)\n",
    "                            }\n",
    "                           \n",
    "                        )\n",
    "                        if not is_numeric_dtype(df[col])\n",
    "                        else pd.NA\n",
    "                    )\n",
    "                    for col in df.columns\n",
    "                ],\n",
    "                \"norm entropy\": [\n",
    "                    round(normalized_entropy_cat(df[col]), 2)\n",
    "                    if isinstance(df[col].dtype, pd.CategoricalDtype)\n",
    "                    else pd.NA\n",
    "                    for col in df.columns\n",
    "                ],\n",
    "            }\n",
    "        )\n",
    "    )\n",
    "\n",
    "\n",
    "overview(df_raw)"
   ]
  },
  {
   "cell_type": "markdown",
   "id": "b9bbd363",
   "metadata": {},
   "source": [
    "#### Observation\n",
    "* `Age`, `Education`, `Income`, `Diabetes_012` are categories with more than two values. All other categories are logical.\n",
    "* The target `Diabetes_012` is heavily imbalanced.\n",
    "* `BMI` contains values further than 10 standard deviations from the mean. Check for outliers.\n",
    "* `HighBP`, `HighChol`, `Smoker`, `PhysActivity`, `Fruits`, `Veggies`, `GenHlth`, `DiffWalk`, `Sex`, `Age`, `Education`, `Income` are no more than slightly unbalanced, all other categories are highly unbalanced."
   ]
  },
  {
   "cell_type": "markdown",
   "id": "24ad90b6",
   "metadata": {},
   "source": [
    "### Crosstabs"
   ]
  },
  {
   "cell_type": "markdown",
   "id": "84af8c15",
   "metadata": {},
   "source": [
    "#### Observation\n",
    "* Most logical categories show a difference of more than 5 percentage points of healthy people between the two categories.\n",
    "* Nominal categories suggest a correlation between increasing values and state of health."
   ]
  },
  {
   "cell_type": "code",
   "execution_count": null,
   "id": "45c23096",
   "metadata": {},
   "outputs": [],
   "source": [
    "%%time\n",
    "\n",
    "categorical_features = df_raw.select_dtypes(include=[\"object\", \"category\"]).columns.tolist()\n",
    "\n",
    "df_raw_copy = df_raw[categorical_features].copy()\n",
    "\n",
    "categorical_features = [col for col in categorical_features if col != \"Diabetes_012\"]\n",
    "# categorical_features= [\"HighBP\"]\n",
    "feature_ct = len(categorical_features)\n",
    "\n",
    "fig, axs = plt.subplots(feature_ct, 1, figsize=(14, 2 * feature_ct))\n",
    "if feature_ct == 1:\n",
    "    axs = [axs]  # ensure axs is always iterable\n",
    "\n",
    "for ax, feature in zip(axs, categorical_features):\n",
    "\n",
    "    ct = pd.crosstab(index=df_raw_copy[feature], columns=df_raw_copy[\"Diabetes_012\"])\n",
    "\n",
    "    ct_ratio = ct.div(ct.sum(axis=1), axis=0).fillna(0)\n",
    "\n",
    "    ct_ratio.plot(kind=\"barh\", stacked=True, ax=ax, legend=False)\n",
    "\n",
    "    for i, (index, row) in enumerate(ct_ratio.iterrows()):\n",
    "        ratio = row.get(0, 0)\n",
    "        ax.text(1.01, i, f\"{ratio:.1%}\", va=\"center\", fontsize=8)\n",
    "\n",
    "    ax.set_xlabel(\"ratio\")\n",
    "    ax.set_ylabel(feature)\n",
    "    ax.set_title(f\"ratio of Diabetes_012 in {feature}\")\n",
    "    ax.legend(title=\"Diabetes_012\", loc=\"lower left\")\n",
    "\n",
    "fig.tight_layout()\n",
    "plt.show()\n",
    "\n",
    "# df is not needed anymore\n",
    "del df_raw_copy"
   ]
  },
  {
   "cell_type": "markdown",
   "id": "3e881ca1",
   "metadata": {},
   "source": [
    "### Pairplots"
   ]
  },
  {
   "cell_type": "markdown",
   "id": "b0742713",
   "metadata": {},
   "source": [
    "#### Observation\n",
    "* No relevant differences are visible between the pairplots\n",
    "* `MenHlth` and `PhysHlth` have more entries on counts divisible by 5. Possibly just the human need for beauty."
   ]
  },
  {
   "cell_type": "markdown",
   "id": "b32c2a75",
   "metadata": {},
   "source": [
    "#### All columns"
   ]
  },
  {
   "cell_type": "code",
   "execution_count": null,
   "id": "f21b9ea8",
   "metadata": {},
   "outputs": [],
   "source": [
    "%%time\n",
    "sns.pairplot(data=df_raw, plot_kws={'alpha': 0.2}, hue='Diabetes_012')\n",
    "plt.suptitle(\"Pairplots of all numeric features\", y=1.02)\n",
    "plt.show();"
   ]
  },
  {
   "cell_type": "markdown",
   "id": "c62620c0",
   "metadata": {},
   "source": [
    "#### Pairplots Women"
   ]
  },
  {
   "cell_type": "code",
   "execution_count": null,
   "id": "34a103f1",
   "metadata": {},
   "outputs": [],
   "source": [
    "%%time\n",
    "sns.pairplot(data=df_raw[df_raw[\"Sex\"] == 0], plot_kws={'alpha': 0.2}, hue='Diabetes_012')\n",
    "plt.suptitle(\"Pairplots of numeric features for women\", y=1.02)\n",
    "plt.show();"
   ]
  },
  {
   "cell_type": "markdown",
   "id": "f662d2ec",
   "metadata": {},
   "source": [
    "#### Pairplots Men"
   ]
  },
  {
   "cell_type": "code",
   "execution_count": null,
   "id": "a13e19c0",
   "metadata": {},
   "outputs": [],
   "source": [
    "%%time\n",
    "sns.pairplot(data=df_raw[df_raw[\"Sex\"] == 1], plot_kws={'alpha': 0.2}, hue='Diabetes_012', )\n",
    "plt.suptitle(\"Pairplots of numeric features for men\", y=1.02)\n",
    "plt.show();"
   ]
  },
  {
   "cell_type": "markdown",
   "id": "2715d1ac",
   "metadata": {},
   "source": [
    "## Correlations"
   ]
  },
  {
   "cell_type": "markdown",
   "id": "aa409917",
   "metadata": {},
   "source": [
    "#### Observations\n",
    "* There are notable correlations between \n",
    "  * `GenHlth`, `PhysHlth` and `DiffWalk`. These seem reasonable.\n",
    "  * `Education` and `Income`. Also reasonable.\n",
    "* There are lower, but still notable correlations between\n",
    "  * `Diabetes_012`, `GenHlth`\n",
    "  * `GenHlth`, `Diabetes_012`, `HighBP`, `Income`\n",
    "  * `MenHlth`, `GenHlth`\n",
    "  * `MenHlth`, `PhysHlth`\n",
    "  * `Income`, `GenHlth`, `DiffWalk`, last one somewhat surprising\n",
    "\n",
    "#### Conclusion\n",
    "Relevant correlations are present. Appropriate feature selection must be conducted."
   ]
  },
  {
   "cell_type": "code",
   "execution_count": null,
   "id": "3381994b",
   "metadata": {},
   "outputs": [],
   "source": [
    "corr = df_raw.corr()\n",
    "mask = np.abs(corr) < 0.3\n",
    "annot = corr.round(2).astype(str)\n",
    "annot[mask] = \"\"\n",
    "\n",
    "plt.figure(figsize=(16, 13))\n",
    "sns.heatmap(\n",
    "    corr,\n",
    "    annot=annot,\n",
    "    fmt=\"\",\n",
    "    cmap=\"coolwarm\",\n",
    "    vmin=-1,\n",
    "    vmax=1,\n",
    ")\n",
    "\n",
    "plt.title(\"Correlations between all columns\", y=1.02)\n",
    "plt.show();"
   ]
  }
 ],
 "metadata": {
  "kernelspec": {
   "display_name": "dpp",
   "language": "python",
   "name": "python3"
  },
  "language_info": {
   "codemirror_mode": {
    "name": "ipython",
    "version": 3
   },
   "file_extension": ".py",
   "mimetype": "text/x-python",
   "name": "python",
   "nbconvert_exporter": "python",
   "pygments_lexer": "ipython3",
   "version": "3.12.1"
  }
 },
 "nbformat": 4,
 "nbformat_minor": 5
}
