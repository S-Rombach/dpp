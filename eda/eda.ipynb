{
 "cells": [
  {
   "cell_type": "markdown",
   "id": "b3c0e6c3",
   "metadata": {},
   "source": [
    "# EDA of diabetes_012_health_indicators_BRFSS2015"
   ]
  },
  {
   "cell_type": "code",
   "execution_count": null,
   "id": "aace00f3",
   "metadata": {},
   "outputs": [],
   "source": [
    "import numpy as np\n",
    "import pandas as pd\n",
    "import seaborn as sns\n",
    "import matplotlib.pyplot as plt"
   ]
  },
  {
   "cell_type": "code",
   "execution_count": null,
   "id": "dee7bbf4",
   "metadata": {},
   "outputs": [],
   "source": [
    "df_raw = pd.read_csv(\"../data/raw/diabetes_012_health_indicators_BRFSS2015.csv\")"
   ]
  },
  {
   "cell_type": "markdown",
   "id": "7107e537",
   "metadata": {},
   "source": [
    "## First glance at raw data"
   ]
  },
  {
   "cell_type": "code",
   "execution_count": null,
   "id": "cf8643a1",
   "metadata": {},
   "outputs": [],
   "source": [
    "display(df_raw.shape)"
   ]
  },
  {
   "cell_type": "code",
   "execution_count": null,
   "id": "ec3c5721",
   "metadata": {},
   "outputs": [],
   "source": [
    "display(df_raw.info())"
   ]
  },
  {
   "cell_type": "markdown",
   "id": "6809bd38",
   "metadata": {},
   "source": [
    "* There are no missing values.\n",
    "* All columns contain numbers, although some should be interpreted as categories."
   ]
  },
  {
   "cell_type": "code",
   "execution_count": null,
   "id": "158777ca",
   "metadata": {},
   "outputs": [],
   "source": [
    "step = 8\n",
    "\n",
    "for i in range(0, len(df_raw.columns), step):\n",
    "    display(df_raw[df_raw.columns[i : i + step]].head())"
   ]
  },
  {
   "cell_type": "code",
   "execution_count": null,
   "id": "566342bc",
   "metadata": {},
   "outputs": [],
   "source": [
    "display(df_raw[df_raw.select_dtypes(include=\"number\").columns].describe())"
   ]
  },
  {
   "cell_type": "markdown",
   "id": "b9c4bf78",
   "metadata": {},
   "source": [
    "* `BMI` has a high maximum. Possibly an outlier.\n",
    "* `MentHlth` and `PhysHlth` are negatively skewed. Both have more than 50% zeroes."
   ]
  },
  {
   "cell_type": "markdown",
   "id": "2b209775",
   "metadata": {},
   "source": [
    "## Converted to intended datatype"
   ]
  },
  {
   "cell_type": "markdown",
   "id": "8c7b1761",
   "metadata": {},
   "source": [
    "### Data Dictionary – Diabetes Health Indicators\n",
    "\n",
    "| Column                | Description                                                                 |\n",
    "|-----------------------|-----------------------------------------------------------------------------|\n",
    "| `Diabetes_012`        | 0 = no diabetes, 1 = prediabetes, 2 = diabetes                              |\n",
    "| `HighBP`              | 0 = no high blood pressure, 1 = high blood pressure                         |\n",
    "| `HighChol`            | 0 = no high cholesterol, 1 = high cholesterol                               |\n",
    "| `CholCheck`           | 0 = no cholesterol check in 5 years, 1 = yes                                |\n",
    "| `BMI`                 | Body Mass Index                                                             |\n",
    "| `Smoker`              | Smoked ≥100 cigarettes in lifetime: 0 = no, 1 = yes                         |\n",
    "| `Stroke`              | Ever told had a stroke: 0 = no, 1 = yes                                     |\n",
    "| `HeartDiseaseorAttack`| CHD or MI history: 0 = no, 1 = yes                                          |\n",
    "| `PhysActivity`        | Physical activity (last 30 days, non-job): 0 = no, 1 = yes                  |\n",
    "| `Fruits`              | Consumes fruit ≥1×/day: 0 = no, 1 = yes                                     |\n",
    "| `Veggies`             | Consumes vegetables ≥1×/day: 0 = no, 1 = yes                                |\n",
    "| `HvyAlcoholConsump`   | Heavy drinker: 0 = no, 1 = yes                                              |\n",
    "| `AnyHealthcare`       | Has health coverage: 0 = no, 1 = yes                                        |\n",
    "| `NoDocbcCost`         | Missed doctor due to cost (last 12 months): 0 = no, 1 = yes                 |\n",
    "| `GenHlth`             | General health: 1 = excellent, ..., 5 = poor                                |\n",
    "| `MentHlth`            | Days of poor mental health (last 30 days), 0–30                             |\n",
    "| `PhysHlth`            | Days of poor physical health (last 30 days), 0–30                           |\n",
    "| `DiffWalk`            | Serious difficulty walking/stairs: 0 = no, 1 = yes                          |\n",
    "| `Sex`                 | 0 = female, 1 = male                                                         |\n",
    "| `Age`                 | Age category: 1 = 18–24, ..., 13 = 80+                                       |\n",
    "| `Education`           | Education level: 1 = none to kindergarten, ..., 6 = college grad            |\n",
    "| `Income`              | Income level: 1 = < $10k, ..., 8 = ≥ $75k                                   |\n"
   ]
  },
  {
   "cell_type": "markdown",
   "id": "b44f2481",
   "metadata": {},
   "source": [
    "### Conversion"
   ]
  },
  {
   "cell_type": "code",
   "execution_count": null,
   "id": "18c1ed41",
   "metadata": {},
   "outputs": [],
   "source": [
    "cat_cols = [\n",
    "    \"Diabetes_012\",\n",
    "    \"HighBP\",\n",
    "    \"HighChol\",\n",
    "    \"CholCheck\",\n",
    "    \"Smoker\",\n",
    "    \"Stroke\",\n",
    "    \"HeartDiseaseorAttack\",\n",
    "    \"PhysActivity\",\n",
    "    \"Fruits\",\n",
    "    \"Veggies\",\n",
    "    \"HvyAlcoholConsump\",\n",
    "    \"AnyHealthcare\",\n",
    "    \"NoDocbcCost\",\n",
    "    \"GenHlth\",\n",
    "    \"DiffWalk\",\n",
    "    \"Sex\",\n",
    "    \"Age\",\n",
    "    \"Education\",\n",
    "    \"Income\",\n",
    "]\n",
    "\n",
    "df_raw[cat_cols] = df_raw[cat_cols].astype(\"int\").astype(\"category\")"
   ]
  },
  {
   "cell_type": "markdown",
   "id": "12789167",
   "metadata": {},
   "source": [
    "### Info, Describe, Overview"
   ]
  },
  {
   "cell_type": "code",
   "execution_count": null,
   "id": "ef4cfad1",
   "metadata": {},
   "outputs": [],
   "source": [
    "df_raw.info()"
   ]
  },
  {
   "cell_type": "code",
   "execution_count": null,
   "id": "cad79bff",
   "metadata": {},
   "outputs": [],
   "source": [
    "display(df_raw.loc[:, df_raw.select_dtypes(include=\"number\").columns].describe())"
   ]
  },
  {
   "cell_type": "code",
   "execution_count": null,
   "id": "00c29f4c",
   "metadata": {},
   "outputs": [],
   "source": [
    "def overview(df):\n",
    "    \"\"\"\n",
    "    Creates and prints an overview of the DataFrame including data types, counts, missing values,\n",
    "    unique values, and some basic statistics.\n",
    "    \"\"\"\n",
    "    from pandas.api.types import is_numeric_dtype, is_categorical_dtype\n",
    "\n",
    "    def normalized_entropy_cat(series: pd.Series) -> float:\n",
    "        \"\"\"\n",
    "        Compute the normalized Shannon entropy of a categorical distribution.\n",
    "\n",
    "        Returns 0 if only one class is present, 1 for perfectly uniform distribution.\n",
    "        \"\"\"\n",
    "        counts = series.value_counts(normalize=True)\n",
    "        entropy = -np.sum(counts * np.log2(counts))\n",
    "        max_entropy = np.log2(len(counts)) if len(counts) > 1 else 1\n",
    "        return entropy / max_entropy\n",
    "\n",
    "    display(\n",
    "        pd.DataFrame(\n",
    "            {\n",
    "                \"dtype\": df.dtypes,\n",
    "                \"total\": df.count(),\n",
    "                \"missing\": df.isna().sum(),\n",
    "                \"missing%\": df.isna().mean() * 100,\n",
    "                \"n_uniques\": df.nunique(),\n",
    "                \"uniques%\": df.nunique() / df.shape[0] * 100,\n",
    "                \"uniques\": [sorted(df[col].unique()) for col in df.columns],\n",
    "                \"non-numeric\": [\n",
    "                    list(\n",
    "                        df[col][pd.to_numeric(df[col], errors=\"coerce\").isna()].unique()\n",
    "                    )\n",
    "                    for col in df.columns\n",
    "                ],\n",
    "                \"dev from mean\": [\n",
    "                    (\n",
    "                        (\n",
    "                            round(\n",
    "                                ((df[col].mean() - df[col].min()) / df[col].std()), 1\n",
    "                            ),\n",
    "                            round(\n",
    "                                ((df[col].max() - df[col].mean()) / df[col].std()), 1\n",
    "                            ),\n",
    "                        )\n",
    "                        if is_numeric_dtype(df[col])\n",
    "                        else pd.NA\n",
    "                    )\n",
    "                    for col in df.columns\n",
    "                ],\n",
    "                \"most/least freq\": [\n",
    "                    (\n",
    "                        (\n",
    "                            {\n",
    "                                df[col].value_counts().index[i]: list(\n",
    "                                    df[col].value_counts()\n",
    "                                )[i] for i in (0, -1)\n",
    "                            }\n",
    "                           \n",
    "                        )\n",
    "                        if not is_numeric_dtype(df[col])\n",
    "                        else pd.NA\n",
    "                    )\n",
    "                    for col in df.columns\n",
    "                ],\n",
    "                \"norm entropy\": [\n",
    "                    round(normalized_entropy_cat(df[col]), 2)\n",
    "                    if isinstance(df[col].dtype, pd.CategoricalDtype)\n",
    "                    else pd.NA\n",
    "                    for col in df.columns\n",
    "                ],\n",
    "            }\n",
    "        )\n",
    "    )\n",
    "\n",
    "\n",
    "overview(df_raw)"
   ]
  },
  {
   "cell_type": "markdown",
   "id": "b9bbd363",
   "metadata": {},
   "source": [
    "* `Age`, `Education`, `Income`, `Diabetes_012` are categories with more than two values. All other categories are logical.\n",
    "* The target `Diabetes_012` is heavily imbalanced.\n",
    "* `BMI` contains values further than 10 standard deviations from the mean. Check for outliers.\n",
    "* `HighBP`, `HighChol`, `Smoker`, `Sex` are slightly unbalanced, all other categories are highly unbalanced."
   ]
  }
 ],
 "metadata": {
  "kernelspec": {
   "display_name": "dpp",
   "language": "python",
   "name": "python3"
  },
  "language_info": {
   "codemirror_mode": {
    "name": "ipython",
    "version": 3
   },
   "file_extension": ".py",
   "mimetype": "text/x-python",
   "name": "python",
   "nbconvert_exporter": "python",
   "pygments_lexer": "ipython3",
   "version": "3.12.1"
  }
 },
 "nbformat": 4,
 "nbformat_minor": 5
}
